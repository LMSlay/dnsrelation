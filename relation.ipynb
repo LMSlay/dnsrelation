{
 "cells": [
  {
   "cell_type": "code",
   "execution_count": 12,
   "metadata": {
    "collapsed": true
   },
   "outputs": [],
   "source": [
    "from pyDatalog import pyDatalog"
   ]
  },
  {
   "cell_type": "code",
   "execution_count": 13,
   "metadata": {
    "collapsed": false
   },
   "outputs": [
    {
     "data": {
      "text/plain": [
       "link(X,Y) <= link(Y,X)"
      ]
     },
     "execution_count": 13,
     "metadata": {},
     "output_type": "execute_result"
    }
   ],
   "source": [
    "pyDatalog.create_terms('link, can_reach', 'X', 'Y', 'Z')\n",
    "\n",
    "class DnsInfo(pyDatalog.Mixin): \n",
    "    \n",
    "    def __init__(self, name, Infected, DDos): \n",
    "        super(DnsInfo, self).__init__()\n",
    "        self.name = name\n",
    "        self.Infected = Infected     \n",
    "        self.DDos = DDos      \n",
    "    \n",
    "    def __repr__(self): # specifies how to display an Employee\n",
    "        return self.name\n",
    "\n",
    "dns = DnsInfo(\"w1.DnsInfo.com\",0 ,1)\n",
    "dns1 = DnsInfo(\"100.100.100.100\",0 ,0)\n",
    "dns2 = DnsInfo(\"w1.DnsInfo.com\",0 ,0)\n",
    "dns3 = DnsInfo(\"100.100.100.101\",0 ,0)\n",
    "dns4 = DnsInfo(\"100.100.100.102\",0 ,0)\n",
    "dns5 = DnsInfo(\"w1.DnsInfo.com\",0 ,0)\n",
    "\n",
    "+link(dns ,dns1)\n",
    "+link(dns1 ,dns2)\n",
    "+link(dns1 ,dns3)\n",
    "+link(dns1 ,dns4)\n",
    "+link(dns2 ,dns5)\n",
    "\n",
    "link(X,Y) <= link(Y,X)"
   ]
  },
  {
   "cell_type": "code",
   "execution_count": 14,
   "metadata": {
    "collapsed": false
   },
   "outputs": [
    {
     "data": {
      "text/plain": [
       "1"
      ]
     },
     "execution_count": 14,
     "metadata": {},
     "output_type": "execute_result"
    }
   ],
   "source": [
    "can_reach(X,Y) <= (X.DDos==1) & link(X,Y) & (Y.DDos==0)\n",
    "# via Z\n",
    "can_reach(dns,Y)[0][0].DDos=1\n",
    "can_reach(dns,Y)[0][0].DDos"
   ]
  },
  {
   "cell_type": "code",
   "execution_count": null,
   "metadata": {
    "collapsed": true
   },
   "outputs": [],
   "source": []
  }
 ],
 "metadata": {
  "kernelspec": {
   "display_name": "Python 2",
   "language": "python",
   "name": "python2"
  },
  "language_info": {
   "codemirror_mode": {
    "name": "ipython",
    "version": 2
   },
   "file_extension": ".py",
   "mimetype": "text/x-python",
   "name": "python",
   "nbconvert_exporter": "python",
   "pygments_lexer": "ipython2",
   "version": "2.7.6"
  }
 },
 "nbformat": 4,
 "nbformat_minor": 0
}
